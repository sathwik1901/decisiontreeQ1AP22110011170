{
  "nbformat": 4,
  "nbformat_minor": 0,
  "metadata": {
    "colab": {
      "provenance": []
    },
    "kernelspec": {
      "name": "python3",
      "display_name": "Python 3"
    },
    "language_info": {
      "name": "python"
    }
  },
  "cells": [
    {
      "cell_type": "code",
      "execution_count": 3,
      "metadata": {
        "colab": {
          "base_uri": "https://localhost:8080/"
        },
        "id": "Csr1MoVcEK9U",
        "outputId": "d170d852-7568-4b73-ef96-bfecbf7b8fcf"
      },
      "outputs": [
        {
          "output_type": "stream",
          "name": "stdout",
          "text": [
            "{0: {'D1': 'No', 'D10': 'Yes', 'D11': 'Yes', 'D12': 'Yes', 'D13': 'Yes', 'D14': 'No', 'D2': 'No', 'D3': 'Yes', 'D4': 'Yes', 'D5': 'Yes', 'D6': 'No', 'D7': 'Yes', 'D8': 'No', 'D9': 'Yes'}}\n"
          ]
        }
      ],
      "source": [
        "import numpy as np\n",
        "import pandas as pd\n",
        "\n",
        "def entropy(y):\n",
        "    values, counts = np.unique(y, return_counts=True)\n",
        "    probs = counts / len(y)\n",
        "    return -np.sum(probs * np.log2(probs))\n",
        "\n",
        "def info_gain(X, y, feature):\n",
        "    unique_vals = np.unique(X[:, feature])\n",
        "    weighted_entropy = 0\n",
        "    for val in unique_vals:\n",
        "        sub_y = y[X[:, feature] == val]\n",
        "        weighted_entropy += len(sub_y) / len(y) * entropy(sub_y)\n",
        "    return entropy(y) - weighted_entropy\n",
        "\n",
        "def best_feature(X, y):\n",
        "    gains = [info_gain(X, y, i) for i in range(X.shape[1])]\n",
        "    return np.argmax(gains)\n",
        "\n",
        "def decision_tree(X, y):\n",
        "    if len(np.unique(y)) == 1:\n",
        "        return np.unique(y)[0]\n",
        "    if X.shape[1] == 0:\n",
        "        return np.bincount(y).argmax()\n",
        "    best_feat = best_feature(X, y)\n",
        "    tree = {best_feat: {}}\n",
        "    for val in np.unique(X[:, best_feat]):\n",
        "        sub_X = X[X[:, best_feat] == val]\n",
        "        sub_y = y[X[:, best_feat] == val]\n",
        "        tree[best_feat][val] = decision_tree(np.delete(sub_X, best_feat, axis=1), sub_y)\n",
        "    return tree\n",
        "\n",
        "data = pd.read_csv('/content/sample_data/play_tennis.csv')\n",
        "X = data.iloc[:, :-1].values\n",
        "y = data.iloc[:, -1].values\n",
        "tree = decision_tree(X, y)\n",
        "print(tree)\n"
      ]
    }
  ]
}